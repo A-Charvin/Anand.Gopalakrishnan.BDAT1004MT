{
 "cells": [
  {
   "cell_type": "markdown",
   "metadata": {},
   "source": [
    "#MID TERM EXAM - BDAT1004"
   ]
  },
  {
   "cell_type": "markdown",
   "metadata": {},
   "source": [
    "__int()__: Constructor that takes as input a pair of Point objects that represent the ends points of the line segment\n",
    "\n",
    "Length():: returns the length if the segment \n",
    "\n",
    "Slope() returns the slope of the segment of none if the slope is unbounded \n",
    "\n",
    "#Some sort of typo in the question since int is a keyword so I don't think it was supposed to be int but rather __init__ instead. Using that "
   ]
  },
  {
   "cell_type": "code",
   "execution_count": 49,
   "metadata": {},
   "outputs": [
    {
     "name": "stdout",
     "output_type": "stream",
     "text": [
      "Length of the line segment: 5.0\n",
      "Slope of the line segment: 0.75\n"
     ]
    }
   ],
   "source": [
    "# Define a Point class with x and y coordinates\n",
    "class Point:\n",
    "    def __init__(self, x=0, y=0):\n",
    "        self.x = x\n",
    "        self.y = y\n",
    "\n",
    "# Define a Segment class that represents a line segment using two Point objects\n",
    "class Segment:\n",
    "    def __init__(self, p1, p2):\n",
    "        self.p1 = p1  # The first endpoint of the line segment\n",
    "        self.p2 = p2  # The second endpoint of the line segment\n",
    "\n",
    "    # Calculate and return the length of the line segment\n",
    "    def length(self):\n",
    "        return ((self.p2.x - self.p1.x) ** 2 + (self.p2.y - self.p1.y) ** 2) ** 0.5\n",
    "\n",
    "    # Calculate and return the slope of the line segment\n",
    "    def slope(self):\n",
    "        # Check if the segment is vertical (x1 == x2)\n",
    "        if self.p2.x - self.p1.x == 0:\n",
    "            return None  # The slope is undefined for a vertical line\n",
    "        # Calculate and return the slope using the formula (y2 - y1) / (x2 - x1)\n",
    "        return (self.p2.y - self.p1.y) / (self.p2.x - self.p1.x)\n",
    "\n",
    "# Create Point objects with coordinates\n",
    "p1 = Point(3, 4)\n",
    "p2 = Point(7, 7)  # Optional: Change these values to obtain different results in the slope\n",
    "\n",
    "# Create a Segment object representing the line segment between p1 and p2\n",
    "s = Segment(p1, p2)\n",
    "\n",
    "# Calculate and print the length of the line segment\n",
    "print(\"Length of the line segment:\", s.length())\n",
    "\n",
    "# Calculate and print the slope of the line segment\n",
    "print(\"Slope of the line segment:\", s.slope())\n"
   ]
  },
  {
   "cell_type": "markdown",
   "metadata": {},
   "source": [
    "Write a solution to find all dates' Id with higher temperatures compared to its previous dates (yesterday).\n",
    "\n",
    "Return the result table in any order."
   ]
  },
  {
   "cell_type": "code",
   "execution_count": 8,
   "metadata": {},
   "outputs": [
    {
     "name": "stdout",
     "output_type": "stream",
     "text": [
      "2\n",
      "4\n"
     ]
    }
   ],
   "source": [
    "import sqlite3\n",
    "\n",
    "# Create a SQLite database and connect to it\n",
    "conn = sqlite3.connect(\"web.db\")\n",
    "\n",
    "# Create a cursor object\n",
    "cur = conn.cursor()\n",
    "\n",
    "# Create the Weather table\n",
    "cur.execute(\"\"\"\n",
    "CREATE TABLE Weather (\n",
    "    id INTEGER PRIMARY KEY,\n",
    "    recordDate DATE,\n",
    "    temperature INTEGER\n",
    ")\n",
    "\"\"\")\n",
    "\n",
    "# Data to be inserted\n",
    "data = [(1, '2015-01-01', 10), (2, '2015-01-02', 25), (3, '2015-01-03', 20), (4, '2015-01-04', 30)]\n",
    "\n",
    "# Insert data using formatted SQL query\n",
    "for row in data:\n",
    "    insert_query = f\"INSERT INTO Weather (id, recordDate, temperature) VALUES ({row[0]}, '{row[1]}', {row[2]})\"\n",
    "    cur.execute(insert_query)\n",
    "\n",
    "# Commit the changes to the database\n",
    "conn.commit()\n",
    "\n",
    "# Execute the SQL query to find dates with higher temperatures compared to previous dates\n",
    "cur.execute(\"\"\"\n",
    "WITH WeatherRanked AS (\n",
    "    SELECT\n",
    "        id,\n",
    "        recordDate,\n",
    "        temperature,\n",
    "        LAG(temperature) OVER (ORDER BY recordDate) AS prevTemperature\n",
    "    FROM\n",
    "        Weather\n",
    ")\n",
    "SELECT id\n",
    "FROM WeatherRanked\n",
    "WHERE temperature > prevTemperature\n",
    "\"\"\")\n",
    "\n",
    "# Fetch and print the results\n",
    "for row in cur:\n",
    "    print(row[0])\n",
    "\n",
    "# Close the cursor and the database connection\n",
    "cur.close()\n",
    "conn.close()\n",
    "\n",
    "\n"
   ]
  },
  {
   "cell_type": "markdown",
   "metadata": {},
   "source": [
    "Develop a recursive function tough() that takes two nonnegative integer arguments and outputs a pattern as shown below. Hint: The first argument represents the indentation of the pattern, where the second argument -- always a pattern of 2 indicates the number *s in the longest line of *s in the pattern"
   ]
  },
  {
   "cell_type": "code",
   "execution_count": 40,
   "metadata": {},
   "outputs": [
    {
     "name": "stdout",
     "output_type": "stream",
     "text": [
      "*\n",
      "**\n",
      " *\n"
     ]
    }
   ],
   "source": [
    "def tough(indent, pattern):\n",
    "    if pattern == 0:\n",
    "        return\n",
    "    tough(indent, pattern - 1)  # Recursive call for decreasing pattern\n",
    "    print(\" \" * indent + \"*\" * pattern)\n",
    "    tough(indent + 1, pattern - 1)  # Recursive call for increasing pattern\n",
    "\n",
    "# Execute the function\n",
    "\n",
    "tough(0, 2)\n",
    "\n"
   ]
  }
 ],
 "metadata": {
  "kernelspec": {
   "display_name": "Python 3",
   "language": "python",
   "name": "python3"
  },
  "language_info": {
   "codemirror_mode": {
    "name": "ipython",
    "version": 3
   },
   "file_extension": ".py",
   "mimetype": "text/x-python",
   "name": "python",
   "nbconvert_exporter": "python",
   "pygments_lexer": "ipython3",
   "version": "3.9.16"
  }
 },
 "nbformat": 4,
 "nbformat_minor": 2
}
